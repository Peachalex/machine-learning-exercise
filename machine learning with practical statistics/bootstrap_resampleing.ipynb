{
 "cells": [
  {
   "cell_type": "code",
   "execution_count": 4,
   "id": "8f2c0bad-2790-4380-87fd-5cd6fe05bac7",
   "metadata": {},
   "outputs": [],
   "source": [
    "import numpy as np\n",
    "import pandas as pd\n",
    "import random\n",
    "x = np.random.normal(loc=300.0, size=1000)"
   ]
  },
  {
   "cell_type": "code",
   "execution_count": 5,
   "id": "9a1f795f-1894-4830-9241-c9397a50f105",
   "metadata": {},
   "outputs": [
    {
     "data": {
      "text/plain": [
       "299.964532369271"
      ]
     },
     "execution_count": 5,
     "metadata": {},
     "output_type": "execute_result"
    }
   ],
   "source": [
    "np.mean(x)"
   ]
  },
  {
   "cell_type": "code",
   "execution_count": 8,
   "id": "fca55703-9708-4965-8c31-75d499571726",
   "metadata": {},
   "outputs": [],
   "source": [
    "sample_mean = []\n",
    "for i in range(100):\n",
    "    y = random.sample(x.tolist(),4)\n",
    "    avg = np.mean(y)\n",
    "    sample_mean.append(avg)"
   ]
  },
  {
   "cell_type": "code",
   "execution_count": 9,
   "id": "adf6e250-a2ef-4513-9944-4f6266f6430d",
   "metadata": {},
   "outputs": [
    {
     "data": {
      "text/plain": [
       "300.0789106034"
      ]
     },
     "execution_count": 9,
     "metadata": {},
     "output_type": "execute_result"
    }
   ],
   "source": [
    "np.mean(sample_mean)"
   ]
  },
  {
   "cell_type": "code",
   "execution_count": 10,
   "id": "915416c2-2e16-42e6-9430-cc3ff66a396c",
   "metadata": {},
   "outputs": [
    {
     "data": {
      "text/plain": [
       "300.02367462623226"
      ]
     },
     "execution_count": 10,
     "metadata": {},
     "output_type": "execute_result"
    }
   ],
   "source": [
    "np.median(x)"
   ]
  },
  {
   "cell_type": "code",
   "execution_count": 11,
   "id": "4f793e07-fe45-4e97-94e1-f67f071467ff",
   "metadata": {},
   "outputs": [],
   "source": [
    "sample_median = []\n",
    "for i in range(100):\n",
    "    y = random.sample(x.tolist(),4)\n",
    "    median =  np.median(y)\n",
    "    sample_median.append(median)"
   ]
  },
  {
   "cell_type": "code",
   "execution_count": 12,
   "id": "b927d1bc-ee3f-48eb-920b-f11487047a15",
   "metadata": {},
   "outputs": [
    {
     "data": {
      "text/plain": [
       "299.98649321760547"
      ]
     },
     "execution_count": 12,
     "metadata": {},
     "output_type": "execute_result"
    }
   ],
   "source": [
    "np.median(sample_median)"
   ]
  },
  {
   "cell_type": "code",
   "execution_count": 13,
   "id": "f6ff8f06-c1bc-4c9f-9fcb-5cc1c23b0710",
   "metadata": {},
   "outputs": [
    {
     "data": {
      "text/plain": [
       "0.4931680835176779"
      ]
     },
     "execution_count": 13,
     "metadata": {},
     "output_type": "execute_result"
    }
   ],
   "source": [
    "np.std(sample_median)"
   ]
  },
  {
   "cell_type": "code",
   "execution_count": 14,
   "id": "33272884-3951-4d48-bcba-4b168f0310f8",
   "metadata": {},
   "outputs": [
    {
     "data": {
      "text/plain": [
       "0.49742824450865997"
      ]
     },
     "execution_count": 14,
     "metadata": {},
     "output_type": "execute_result"
    }
   ],
   "source": [
    "np.std(sample_mean)"
   ]
  },
  {
   "cell_type": "code",
   "execution_count": 16,
   "id": "5f574fe1-5198-4291-82ef-7a72716707fc",
   "metadata": {},
   "outputs": [
    {
     "name": "stdout",
     "output_type": "stream",
     "text": [
      "bias:-0.02196084833445866\n"
     ]
    }
   ],
   "source": [
    "bias = np.mean(x) - np.median(sample_median)\n",
    "print(f'bias:{bias}')"
   ]
  },
  {
   "cell_type": "code",
   "execution_count": 22,
   "id": "77a8e5f0-d6ce-4127-bd59-9111fcae8348",
   "metadata": {},
   "outputs": [
    {
     "name": "stdout",
     "output_type": "stream",
     "text": [
      "ConfidenceInterval(low=299.95164038966436, high=300.06564951403095)\n"
     ]
    }
   ],
   "source": [
    "from scipy.stats import bootstrap\n",
    "data =(x,)\n",
    "bootstrap_ci = bootstrap(data, np.median, confidence_level=0.95, random_state=1, method=\"percentile\", n_resamples=500)\n",
    "print(bootstrap_ci.confidence_interval)"
   ]
  },
  {
   "cell_type": "code",
   "execution_count": 24,
   "id": "58a5a3cc-32ca-439f-a115-800a0785010d",
   "metadata": {},
   "outputs": [
    {
     "name": "stdout",
     "output_type": "stream",
     "text": [
      "ConfidenceInterval(low=0.941863629868417, high=1.0251212376431866)\n"
     ]
    }
   ],
   "source": [
    "bootstrap_ci = bootstrap(data, np.std, confidence_level=0.95, random_state=1, method=\"percentile\", n_resamples=499)\n",
    "print(bootstrap_ci.confidence_interval)"
   ]
  },
  {
   "cell_type": "code",
   "execution_count": null,
   "id": "06f30678-087c-49b2-baa9-5ba115e5b584",
   "metadata": {},
   "outputs": [],
   "source": []
  }
 ],
 "metadata": {
  "kernelspec": {
   "display_name": "Python 3 (ipykernel)",
   "language": "python",
   "name": "python3"
  },
  "language_info": {
   "codemirror_mode": {
    "name": "ipython",
    "version": 3
   },
   "file_extension": ".py",
   "mimetype": "text/x-python",
   "name": "python",
   "nbconvert_exporter": "python",
   "pygments_lexer": "ipython3",
   "version": "3.9.12"
  }
 },
 "nbformat": 4,
 "nbformat_minor": 5
}
